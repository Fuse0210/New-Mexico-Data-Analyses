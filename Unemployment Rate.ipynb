{
 "cells": [
  {
   "cell_type": "markdown",
   "metadata": {},
   "source": [
    "Will create 2 Bar charts and 1 line chart:\n",
    "\n",
    "The bar charts are: \n",
    "\n",
    "(1) The unemployment rates among different age groups in NM in 2019\n",
    "\n",
    "(2) The unemployment rates by educational attainment in NM in 2019\n",
    "\n",
    "Data was obtained from U.S. Census: \n",
    "https://data.census.gov/cedsci/table?q=new%20mexico%20employment&tid=ACSST1Y2019.S2301&moe=false&hidePreview=true\n",
    "\n",
    "\n",
    "The line chart is the unemployment rates from 2015 to 2020 in NM. \n",
    "\n",
    "Note: \n",
    "Data from 2015 to 2019 was obtained from U.S. Census:\n",
    "https://data.census.gov/cedsci/table?q=unemployment%20rate%20new%20mexico&tid=ACSCP1Y2019.CP03&hidePreview=false\n",
    "\n",
    "Data of 2020 is from November 2020, and was obtained from the following website: \n",
    "https://www.dws.state.nm.us/en-us/Researchers/Data/Labor-Force-Unemployment\n"
   ]
  },
  {
   "cell_type": "code",
   "execution_count": 1,
   "metadata": {},
   "outputs": [],
   "source": [
    "import pandas as pd"
   ]
  },
  {
   "cell_type": "code",
   "execution_count": 2,
   "metadata": {},
   "outputs": [
    {
     "data": {
      "text/html": [
       "<div>\n",
       "<style scoped>\n",
       "    .dataframe tbody tr th:only-of-type {\n",
       "        vertical-align: middle;\n",
       "    }\n",
       "\n",
       "    .dataframe tbody tr th {\n",
       "        vertical-align: top;\n",
       "    }\n",
       "\n",
       "    .dataframe thead th {\n",
       "        text-align: right;\n",
       "    }\n",
       "</style>\n",
       "<table border=\"1\" class=\"dataframe\">\n",
       "  <thead>\n",
       "    <tr style=\"text-align: right;\">\n",
       "      <th></th>\n",
       "      <th>Age</th>\n",
       "      <th>Population</th>\n",
       "      <th>Labor Force Participation Rate</th>\n",
       "      <th>Employment/\\nPopulation Ratio</th>\n",
       "      <th>Unemployment rate</th>\n",
       "    </tr>\n",
       "  </thead>\n",
       "  <tbody>\n",
       "    <tr>\n",
       "      <th>0</th>\n",
       "      <td>16 to 19 years</td>\n",
       "      <td>114,480</td>\n",
       "      <td>38.80%</td>\n",
       "      <td>32.60%</td>\n",
       "      <td>14.20%</td>\n",
       "    </tr>\n",
       "    <tr>\n",
       "      <th>1</th>\n",
       "      <td>20 to 24 years</td>\n",
       "      <td>137,719</td>\n",
       "      <td>73.90%</td>\n",
       "      <td>66.40%</td>\n",
       "      <td>6.30%</td>\n",
       "    </tr>\n",
       "    <tr>\n",
       "      <th>2</th>\n",
       "      <td>25 to 29 years</td>\n",
       "      <td>143,017</td>\n",
       "      <td>77.00%</td>\n",
       "      <td>69.80%</td>\n",
       "      <td>7.20%</td>\n",
       "    </tr>\n",
       "    <tr>\n",
       "      <th>3</th>\n",
       "      <td>30 to 34 years</td>\n",
       "      <td>135,610</td>\n",
       "      <td>79.10%</td>\n",
       "      <td>73.00%</td>\n",
       "      <td>6.40%</td>\n",
       "    </tr>\n",
       "    <tr>\n",
       "      <th>4</th>\n",
       "      <td>35 to 44 years</td>\n",
       "      <td>261,847</td>\n",
       "      <td>77.60%</td>\n",
       "      <td>72.70%</td>\n",
       "      <td>5.00%</td>\n",
       "    </tr>\n",
       "    <tr>\n",
       "      <th>5</th>\n",
       "      <td>45 to 54 years</td>\n",
       "      <td>235,075</td>\n",
       "      <td>77.10%</td>\n",
       "      <td>73.80%</td>\n",
       "      <td>3.90%</td>\n",
       "    </tr>\n",
       "    <tr>\n",
       "      <th>6</th>\n",
       "      <td>55 to 59 years</td>\n",
       "      <td>132,366</td>\n",
       "      <td>67.70%</td>\n",
       "      <td>65.20%</td>\n",
       "      <td>3.70%</td>\n",
       "    </tr>\n",
       "    <tr>\n",
       "      <th>7</th>\n",
       "      <td>60 to 64 years</td>\n",
       "      <td>140,343</td>\n",
       "      <td>49.70%</td>\n",
       "      <td>47.90%</td>\n",
       "      <td>3.60%</td>\n",
       "    </tr>\n",
       "    <tr>\n",
       "      <th>8</th>\n",
       "      <td>65 to 74 years</td>\n",
       "      <td>224,011</td>\n",
       "      <td>25.00%</td>\n",
       "      <td>23.90%</td>\n",
       "      <td>4.30%</td>\n",
       "    </tr>\n",
       "    <tr>\n",
       "      <th>9</th>\n",
       "      <td>75 years and over</td>\n",
       "      <td>153,719</td>\n",
       "      <td>6.20%</td>\n",
       "      <td>6.00%</td>\n",
       "      <td>3.20%</td>\n",
       "    </tr>\n",
       "  </tbody>\n",
       "</table>\n",
       "</div>"
      ],
      "text/plain": [
       "                 Age Population  Labor Force Participation Rate  \\\n",
       "0     16 to 19 years     114,480                         38.80%   \n",
       "1     20 to 24 years     137,719                         73.90%   \n",
       "2     25 to 29 years     143,017                         77.00%   \n",
       "3     30 to 34 years     135,610                         79.10%   \n",
       "4     35 to 44 years     261,847                         77.60%   \n",
       "5     45 to 54 years     235,075                         77.10%   \n",
       "6     55 to 59 years     132,366                         67.70%   \n",
       "7     60 to 64 years     140,343                         49.70%   \n",
       "8     65 to 74 years     224,011                         25.00%   \n",
       "9  75 years and over     153,719                          6.20%   \n",
       "\n",
       "  Employment/\\nPopulation Ratio Unemployment rate  \n",
       "0                        32.60%            14.20%  \n",
       "1                        66.40%             6.30%  \n",
       "2                        69.80%             7.20%  \n",
       "3                        73.00%             6.40%  \n",
       "4                        72.70%             5.00%  \n",
       "5                        73.80%             3.90%  \n",
       "6                        65.20%             3.70%  \n",
       "7                        47.90%             3.60%  \n",
       "8                        23.90%             4.30%  \n",
       "9                         6.00%             3.20%  "
      ]
     },
     "execution_count": 2,
     "metadata": {},
     "output_type": "execute_result"
    }
   ],
   "source": [
    "df = pd.read_csv(\"Unemplpyment rate.csv\")\n",
    "df"
   ]
  },
  {
   "cell_type": "code",
   "execution_count": 3,
   "metadata": {},
   "outputs": [
    {
     "data": {
      "text/plain": [
       "Index(['Age', 'Population ', 'Labor Force Participation Rate',\n",
       "       'Employment/\\nPopulation Ratio', 'Unemployment rate'],\n",
       "      dtype='object')"
      ]
     },
     "execution_count": 3,
     "metadata": {},
     "output_type": "execute_result"
    }
   ],
   "source": [
    "df.columns"
   ]
  },
  {
   "cell_type": "code",
   "execution_count": 4,
   "metadata": {},
   "outputs": [
    {
     "data": {
      "text/plain": [
       "RangeIndex(start=0, stop=10, step=1)"
      ]
     },
     "execution_count": 4,
     "metadata": {},
     "output_type": "execute_result"
    }
   ],
   "source": [
    "df.index"
   ]
  },
  {
   "cell_type": "code",
   "execution_count": 5,
   "metadata": {},
   "outputs": [
    {
     "data": {
      "text/html": [
       "<div>\n",
       "<style scoped>\n",
       "    .dataframe tbody tr th:only-of-type {\n",
       "        vertical-align: middle;\n",
       "    }\n",
       "\n",
       "    .dataframe tbody tr th {\n",
       "        vertical-align: top;\n",
       "    }\n",
       "\n",
       "    .dataframe thead th {\n",
       "        text-align: right;\n",
       "    }\n",
       "</style>\n",
       "<table border=\"1\" class=\"dataframe\">\n",
       "  <thead>\n",
       "    <tr style=\"text-align: right;\">\n",
       "      <th></th>\n",
       "      <th>Age</th>\n",
       "      <th>Population</th>\n",
       "      <th>Labor Force Participation Rate</th>\n",
       "      <th>Employment Population Ratio</th>\n",
       "      <th>Unemployment Rate</th>\n",
       "    </tr>\n",
       "  </thead>\n",
       "  <tbody>\n",
       "    <tr>\n",
       "      <th>0</th>\n",
       "      <td>16 to 19 years</td>\n",
       "      <td>114,480</td>\n",
       "      <td>38.80%</td>\n",
       "      <td>32.60%</td>\n",
       "      <td>14.20%</td>\n",
       "    </tr>\n",
       "    <tr>\n",
       "      <th>1</th>\n",
       "      <td>20 to 24 years</td>\n",
       "      <td>137,719</td>\n",
       "      <td>73.90%</td>\n",
       "      <td>66.40%</td>\n",
       "      <td>6.30%</td>\n",
       "    </tr>\n",
       "    <tr>\n",
       "      <th>2</th>\n",
       "      <td>25 to 29 years</td>\n",
       "      <td>143,017</td>\n",
       "      <td>77.00%</td>\n",
       "      <td>69.80%</td>\n",
       "      <td>7.20%</td>\n",
       "    </tr>\n",
       "    <tr>\n",
       "      <th>3</th>\n",
       "      <td>30 to 34 years</td>\n",
       "      <td>135,610</td>\n",
       "      <td>79.10%</td>\n",
       "      <td>73.00%</td>\n",
       "      <td>6.40%</td>\n",
       "    </tr>\n",
       "    <tr>\n",
       "      <th>4</th>\n",
       "      <td>35 to 44 years</td>\n",
       "      <td>261,847</td>\n",
       "      <td>77.60%</td>\n",
       "      <td>72.70%</td>\n",
       "      <td>5.00%</td>\n",
       "    </tr>\n",
       "    <tr>\n",
       "      <th>5</th>\n",
       "      <td>45 to 54 years</td>\n",
       "      <td>235,075</td>\n",
       "      <td>77.10%</td>\n",
       "      <td>73.80%</td>\n",
       "      <td>3.90%</td>\n",
       "    </tr>\n",
       "    <tr>\n",
       "      <th>6</th>\n",
       "      <td>55 to 59 years</td>\n",
       "      <td>132,366</td>\n",
       "      <td>67.70%</td>\n",
       "      <td>65.20%</td>\n",
       "      <td>3.70%</td>\n",
       "    </tr>\n",
       "    <tr>\n",
       "      <th>7</th>\n",
       "      <td>60 to 64 years</td>\n",
       "      <td>140,343</td>\n",
       "      <td>49.70%</td>\n",
       "      <td>47.90%</td>\n",
       "      <td>3.60%</td>\n",
       "    </tr>\n",
       "    <tr>\n",
       "      <th>8</th>\n",
       "      <td>65 to 74 years</td>\n",
       "      <td>224,011</td>\n",
       "      <td>25.00%</td>\n",
       "      <td>23.90%</td>\n",
       "      <td>4.30%</td>\n",
       "    </tr>\n",
       "    <tr>\n",
       "      <th>9</th>\n",
       "      <td>75 years and over</td>\n",
       "      <td>153,719</td>\n",
       "      <td>6.20%</td>\n",
       "      <td>6.00%</td>\n",
       "      <td>3.20%</td>\n",
       "    </tr>\n",
       "  </tbody>\n",
       "</table>\n",
       "</div>"
      ],
      "text/plain": [
       "                 Age Population  Labor Force Participation Rate  \\\n",
       "0     16 to 19 years     114,480                         38.80%   \n",
       "1     20 to 24 years     137,719                         73.90%   \n",
       "2     25 to 29 years     143,017                         77.00%   \n",
       "3     30 to 34 years     135,610                         79.10%   \n",
       "4     35 to 44 years     261,847                         77.60%   \n",
       "5     45 to 54 years     235,075                         77.10%   \n",
       "6     55 to 59 years     132,366                         67.70%   \n",
       "7     60 to 64 years     140,343                         49.70%   \n",
       "8     65 to 74 years     224,011                         25.00%   \n",
       "9  75 years and over     153,719                          6.20%   \n",
       "\n",
       "  Employment Population Ratio Unemployment Rate  \n",
       "0                      32.60%            14.20%  \n",
       "1                      66.40%             6.30%  \n",
       "2                      69.80%             7.20%  \n",
       "3                      73.00%             6.40%  \n",
       "4                      72.70%             5.00%  \n",
       "5                      73.80%             3.90%  \n",
       "6                      65.20%             3.70%  \n",
       "7                      47.90%             3.60%  \n",
       "8                      23.90%             4.30%  \n",
       "9                       6.00%             3.20%  "
      ]
     },
     "execution_count": 5,
     "metadata": {},
     "output_type": "execute_result"
    }
   ],
   "source": [
    "df.rename(index=str, columns={\"Employment/\\nPopulation Ratio\": \"Employment Population Ratio\", \"Unemployment rate\": \"Unemployment Rate\"}, inplace=True)\n",
    "df"
   ]
  },
  {
   "cell_type": "code",
   "execution_count": 6,
   "metadata": {},
   "outputs": [
    {
     "data": {
      "text/html": [
       "<div>\n",
       "<style scoped>\n",
       "    .dataframe tbody tr th:only-of-type {\n",
       "        vertical-align: middle;\n",
       "    }\n",
       "\n",
       "    .dataframe tbody tr th {\n",
       "        vertical-align: top;\n",
       "    }\n",
       "\n",
       "    .dataframe thead th {\n",
       "        text-align: right;\n",
       "    }\n",
       "</style>\n",
       "<table border=\"1\" class=\"dataframe\">\n",
       "  <thead>\n",
       "    <tr style=\"text-align: right;\">\n",
       "      <th></th>\n",
       "      <th>Unemployment Rate</th>\n",
       "    </tr>\n",
       "    <tr>\n",
       "      <th>Age</th>\n",
       "      <th></th>\n",
       "    </tr>\n",
       "  </thead>\n",
       "  <tbody>\n",
       "    <tr>\n",
       "      <th>16 to 19 years</th>\n",
       "      <td>14.20%</td>\n",
       "    </tr>\n",
       "    <tr>\n",
       "      <th>20 to 24 years</th>\n",
       "      <td>6.30%</td>\n",
       "    </tr>\n",
       "    <tr>\n",
       "      <th>25 to 29 years</th>\n",
       "      <td>7.20%</td>\n",
       "    </tr>\n",
       "    <tr>\n",
       "      <th>30 to 34 years</th>\n",
       "      <td>6.40%</td>\n",
       "    </tr>\n",
       "    <tr>\n",
       "      <th>35 to 44 years</th>\n",
       "      <td>5.00%</td>\n",
       "    </tr>\n",
       "    <tr>\n",
       "      <th>45 to 54 years</th>\n",
       "      <td>3.90%</td>\n",
       "    </tr>\n",
       "    <tr>\n",
       "      <th>55 to 59 years</th>\n",
       "      <td>3.70%</td>\n",
       "    </tr>\n",
       "    <tr>\n",
       "      <th>60 to 64 years</th>\n",
       "      <td>3.60%</td>\n",
       "    </tr>\n",
       "    <tr>\n",
       "      <th>65 to 74 years</th>\n",
       "      <td>4.30%</td>\n",
       "    </tr>\n",
       "    <tr>\n",
       "      <th>75 years and over</th>\n",
       "      <td>3.20%</td>\n",
       "    </tr>\n",
       "  </tbody>\n",
       "</table>\n",
       "</div>"
      ],
      "text/plain": [
       "                  Unemployment Rate\n",
       "Age                                \n",
       "16 to 19 years               14.20%\n",
       "20 to 24 years                6.30%\n",
       "25 to 29 years                7.20%\n",
       "30 to 34 years                6.40%\n",
       "35 to 44 years                5.00%\n",
       "45 to 54 years                3.90%\n",
       "55 to 59 years                3.70%\n",
       "60 to 64 years                3.60%\n",
       "65 to 74 years                4.30%\n",
       "75 years and over             3.20%"
      ]
     },
     "execution_count": 6,
     "metadata": {},
     "output_type": "execute_result"
    }
   ],
   "source": [
    "df_unemp = df[[\"Age\", \"Unemployment Rate\"]]\n",
    "\n",
    "df_unemp.set_index(\"Age\", inplace=True)\n",
    "\n",
    "df_unemp"
   ]
  },
  {
   "cell_type": "code",
   "execution_count": 7,
   "metadata": {},
   "outputs": [
    {
     "data": {
      "text/plain": [
       "Unemployment Rate    object\n",
       "dtype: object"
      ]
     },
     "execution_count": 7,
     "metadata": {},
     "output_type": "execute_result"
    }
   ],
   "source": [
    "df_unemp.dtypes"
   ]
  },
  {
   "cell_type": "code",
   "execution_count": 8,
   "metadata": {},
   "outputs": [
    {
     "data": {
      "text/html": [
       "<div>\n",
       "<style scoped>\n",
       "    .dataframe tbody tr th:only-of-type {\n",
       "        vertical-align: middle;\n",
       "    }\n",
       "\n",
       "    .dataframe tbody tr th {\n",
       "        vertical-align: top;\n",
       "    }\n",
       "\n",
       "    .dataframe thead th {\n",
       "        text-align: right;\n",
       "    }\n",
       "</style>\n",
       "<table border=\"1\" class=\"dataframe\">\n",
       "  <thead>\n",
       "    <tr style=\"text-align: right;\">\n",
       "      <th></th>\n",
       "      <th>Unemployment Rate</th>\n",
       "    </tr>\n",
       "    <tr>\n",
       "      <th>Age</th>\n",
       "      <th></th>\n",
       "    </tr>\n",
       "  </thead>\n",
       "  <tbody>\n",
       "    <tr>\n",
       "      <th>16 to 19 years</th>\n",
       "      <td>14.2</td>\n",
       "    </tr>\n",
       "    <tr>\n",
       "      <th>20 to 24 years</th>\n",
       "      <td>6.3</td>\n",
       "    </tr>\n",
       "    <tr>\n",
       "      <th>25 to 29 years</th>\n",
       "      <td>7.2</td>\n",
       "    </tr>\n",
       "    <tr>\n",
       "      <th>30 to 34 years</th>\n",
       "      <td>6.4</td>\n",
       "    </tr>\n",
       "    <tr>\n",
       "      <th>35 to 44 years</th>\n",
       "      <td>5.0</td>\n",
       "    </tr>\n",
       "    <tr>\n",
       "      <th>45 to 54 years</th>\n",
       "      <td>3.9</td>\n",
       "    </tr>\n",
       "    <tr>\n",
       "      <th>55 to 59 years</th>\n",
       "      <td>3.7</td>\n",
       "    </tr>\n",
       "    <tr>\n",
       "      <th>60 to 64 years</th>\n",
       "      <td>3.6</td>\n",
       "    </tr>\n",
       "    <tr>\n",
       "      <th>65 to 74 years</th>\n",
       "      <td>4.3</td>\n",
       "    </tr>\n",
       "    <tr>\n",
       "      <th>75 years and over</th>\n",
       "      <td>3.2</td>\n",
       "    </tr>\n",
       "  </tbody>\n",
       "</table>\n",
       "</div>"
      ],
      "text/plain": [
       "                   Unemployment Rate\n",
       "Age                                 \n",
       "16 to 19 years                  14.2\n",
       "20 to 24 years                   6.3\n",
       "25 to 29 years                   7.2\n",
       "30 to 34 years                   6.4\n",
       "35 to 44 years                   5.0\n",
       "45 to 54 years                   3.9\n",
       "55 to 59 years                   3.7\n",
       "60 to 64 years                   3.6\n",
       "65 to 74 years                   4.3\n",
       "75 years and over                3.2"
      ]
     },
     "execution_count": 8,
     "metadata": {},
     "output_type": "execute_result"
    }
   ],
   "source": [
    "df_unemp=df_unemp.replace('%','',regex=True).astype(float)\n",
    "df_unemp"
   ]
  },
  {
   "cell_type": "code",
   "execution_count": 9,
   "metadata": {},
   "outputs": [
    {
     "data": {
      "text/plain": [
       "Unemployment Rate    float64\n",
       "dtype: object"
      ]
     },
     "execution_count": 9,
     "metadata": {},
     "output_type": "execute_result"
    }
   ],
   "source": [
    "df_unemp.dtypes"
   ]
  },
  {
   "cell_type": "code",
   "execution_count": 10,
   "metadata": {},
   "outputs": [],
   "source": [
    "%matplotlib inline\n",
    "import matplotlib.pyplot as plt"
   ]
  },
  {
   "cell_type": "code",
   "execution_count": 12,
   "metadata": {},
   "outputs": [
    {
     "data": {
      "image/png": "[encoded data removed]",
      "text/plain": [
       "<Figure size 720x432 with 1 Axes>"
      ]
     },
     "metadata": {
      "needs_background": "light"
     },
     "output_type": "display_data"
    }
   ],
   "source": [
    "ax = df_unemp.plot(kind='bar', figsize=(10, 6), legend=None, color='#2ca5c9')\n",
    "\n",
    "ax.set_xlabel('Age in Years', fontsize=14) # add to x-label to the plot\n",
    "ax.set_ylabel('Unemployment Rate (%)', fontsize=14) # add y-label to the plot\n",
    "ax.set_title('Unemployment Rates among Different Age Groups', fontsize=18) # add title to the plot\n",
    "\n",
    "\n",
    "for bar in ax.patches: \n",
    "    ax.annotate(format(bar.get_height(), '.1f'),  \n",
    "                   (bar.get_x() + bar.get_width()/ 2,  \n",
    "                    bar.get_height()), ha='center', va='center', \n",
    "                   size=10, xytext=(0, 5), \n",
    "                   textcoords='offset points') \n",
    "\n",
    "plt.show()"
   ]
  },
  {
   "cell_type": "code",
   "execution_count": 27,
   "metadata": {},
   "outputs": [
    {
     "data": {
      "text/html": [
       "<div>\n",
       "<style scoped>\n",
       "    .dataframe tbody tr th:only-of-type {\n",
       "        vertical-align: middle;\n",
       "    }\n",
       "\n",
       "    .dataframe tbody tr th {\n",
       "        vertical-align: top;\n",
       "    }\n",
       "\n",
       "    .dataframe thead th {\n",
       "        text-align: right;\n",
       "    }\n",
       "</style>\n",
       "<table border=\"1\" class=\"dataframe\">\n",
       "  <thead>\n",
       "    <tr style=\"text-align: right;\">\n",
       "      <th></th>\n",
       "      <th>EDUCATIONAL ATTAINMENT</th>\n",
       "      <th>Population</th>\n",
       "      <th>Labor Force Participation Rate</th>\n",
       "      <th>Employment/\\nPopulation Ratio</th>\n",
       "      <th>Unemployment rate</th>\n",
       "    </tr>\n",
       "  </thead>\n",
       "  <tbody>\n",
       "    <tr>\n",
       "      <th>0</th>\n",
       "      <td>Less than high school graduate</td>\n",
       "      <td>139,037</td>\n",
       "      <td>55.00%</td>\n",
       "      <td>50.40%</td>\n",
       "      <td>8.40%</td>\n",
       "    </tr>\n",
       "    <tr>\n",
       "      <th>1</th>\n",
       "      <td>High school graduate</td>\n",
       "      <td>281,886</td>\n",
       "      <td>66.50%</td>\n",
       "      <td>61.90%</td>\n",
       "      <td>6.60%</td>\n",
       "    </tr>\n",
       "    <tr>\n",
       "      <th>2</th>\n",
       "      <td>Some college or associate's degree</td>\n",
       "      <td>352,226</td>\n",
       "      <td>75.30%</td>\n",
       "      <td>70.50%</td>\n",
       "      <td>4.90%</td>\n",
       "    </tr>\n",
       "    <tr>\n",
       "      <th>3</th>\n",
       "      <td>Bachelor's degree or higher</td>\n",
       "      <td>275,109</td>\n",
       "      <td>84.20%</td>\n",
       "      <td>81.30%</td>\n",
       "      <td>2.60%</td>\n",
       "    </tr>\n",
       "  </tbody>\n",
       "</table>\n",
       "</div>"
      ],
      "text/plain": [
       "               EDUCATIONAL ATTAINMENT Population   \\\n",
       "0      Less than high school graduate     139,037   \n",
       "1               High school graduate      281,886   \n",
       "2  Some college or associate's degree     352,226   \n",
       "3         Bachelor's degree or higher     275,109   \n",
       "\n",
       "  Labor Force Participation Rate Employment/\\nPopulation Ratio  \\\n",
       "0                         55.00%                        50.40%   \n",
       "1                         66.50%                        61.90%   \n",
       "2                         75.30%                        70.50%   \n",
       "3                         84.20%                        81.30%   \n",
       "\n",
       "  Unemployment rate  \n",
       "0             8.40%  \n",
       "1             6.60%  \n",
       "2             4.90%  \n",
       "3             2.60%  "
      ]
     },
     "execution_count": 27,
     "metadata": {},
     "output_type": "execute_result"
    }
   ],
   "source": [
    "df2 = pd.read_csv(\"Unemployment Rate Education.csv\")\n",
    "df2"
   ]
  },
  {
   "cell_type": "code",
   "execution_count": 28,
   "metadata": {},
   "outputs": [
    {
     "data": {
      "text/html": [
       "<div>\n",
       "<style scoped>\n",
       "    .dataframe tbody tr th:only-of-type {\n",
       "        vertical-align: middle;\n",
       "    }\n",
       "\n",
       "    .dataframe tbody tr th {\n",
       "        vertical-align: top;\n",
       "    }\n",
       "\n",
       "    .dataframe thead th {\n",
       "        text-align: right;\n",
       "    }\n",
       "</style>\n",
       "<table border=\"1\" class=\"dataframe\">\n",
       "  <thead>\n",
       "    <tr style=\"text-align: right;\">\n",
       "      <th></th>\n",
       "      <th>EDUCATIONAL ATTAINMENT</th>\n",
       "      <th>Population</th>\n",
       "      <th>Labor Force Participation Rate</th>\n",
       "      <th>Employment Population Ratio</th>\n",
       "      <th>Unemployment rate</th>\n",
       "    </tr>\n",
       "  </thead>\n",
       "  <tbody>\n",
       "    <tr>\n",
       "      <th>0</th>\n",
       "      <td>Less than high school graduate</td>\n",
       "      <td>139,037</td>\n",
       "      <td>55.00%</td>\n",
       "      <td>50.40%</td>\n",
       "      <td>8.40%</td>\n",
       "    </tr>\n",
       "    <tr>\n",
       "      <th>1</th>\n",
       "      <td>High school graduate</td>\n",
       "      <td>281,886</td>\n",
       "      <td>66.50%</td>\n",
       "      <td>61.90%</td>\n",
       "      <td>6.60%</td>\n",
       "    </tr>\n",
       "    <tr>\n",
       "      <th>2</th>\n",
       "      <td>Some college or associate's degree</td>\n",
       "      <td>352,226</td>\n",
       "      <td>75.30%</td>\n",
       "      <td>70.50%</td>\n",
       "      <td>4.90%</td>\n",
       "    </tr>\n",
       "    <tr>\n",
       "      <th>3</th>\n",
       "      <td>Bachelor's degree or higher</td>\n",
       "      <td>275,109</td>\n",
       "      <td>84.20%</td>\n",
       "      <td>81.30%</td>\n",
       "      <td>2.60%</td>\n",
       "    </tr>\n",
       "  </tbody>\n",
       "</table>\n",
       "</div>"
      ],
      "text/plain": [
       "               EDUCATIONAL ATTAINMENT Population   \\\n",
       "0      Less than high school graduate     139,037   \n",
       "1               High school graduate      281,886   \n",
       "2  Some college or associate's degree     352,226   \n",
       "3         Bachelor's degree or higher     275,109   \n",
       "\n",
       "  Labor Force Participation Rate Employment Population Ratio Unemployment rate  \n",
       "0                         55.00%                      50.40%             8.40%  \n",
       "1                         66.50%                      61.90%             6.60%  \n",
       "2                         75.30%                      70.50%             4.90%  \n",
       "3                         84.20%                      81.30%             2.60%  "
      ]
     },
     "execution_count": 28,
     "metadata": {},
     "output_type": "execute_result"
    }
   ],
   "source": [
    "df2.rename(index=str, columns={\"Employment/\\nPopulation Ratio\": \"Employment Population Ratio\"}, inplace=True)\n",
    "df2"
   ]
  },
  {
   "cell_type": "code",
   "execution_count": 29,
   "metadata": {},
   "outputs": [
    {
     "data": {
      "text/html": [
       "<div>\n",
       "<style scoped>\n",
       "    .dataframe tbody tr th:only-of-type {\n",
       "        vertical-align: middle;\n",
       "    }\n",
       "\n",
       "    .dataframe tbody tr th {\n",
       "        vertical-align: top;\n",
       "    }\n",
       "\n",
       "    .dataframe thead th {\n",
       "        text-align: right;\n",
       "    }\n",
       "</style>\n",
       "<table border=\"1\" class=\"dataframe\">\n",
       "  <thead>\n",
       "    <tr style=\"text-align: right;\">\n",
       "      <th></th>\n",
       "      <th>Unemployment rate</th>\n",
       "    </tr>\n",
       "    <tr>\n",
       "      <th>EDUCATIONAL ATTAINMENT</th>\n",
       "      <th></th>\n",
       "    </tr>\n",
       "  </thead>\n",
       "  <tbody>\n",
       "    <tr>\n",
       "      <th>Less than high school graduate</th>\n",
       "      <td>8.40%</td>\n",
       "    </tr>\n",
       "    <tr>\n",
       "      <th>High school graduate</th>\n",
       "      <td>6.60%</td>\n",
       "    </tr>\n",
       "    <tr>\n",
       "      <th>Some college or associate's degree</th>\n",
       "      <td>4.90%</td>\n",
       "    </tr>\n",
       "    <tr>\n",
       "      <th>Bachelor's degree or higher</th>\n",
       "      <td>2.60%</td>\n",
       "    </tr>\n",
       "  </tbody>\n",
       "</table>\n",
       "</div>"
      ],
      "text/plain": [
       "                                   Unemployment rate\n",
       "EDUCATIONAL ATTAINMENT                              \n",
       "Less than high school graduate                 8.40%\n",
       "High school graduate                           6.60%\n",
       "Some college or associate's degree             4.90%\n",
       "Bachelor's degree or higher                    2.60%"
      ]
     },
     "execution_count": 29,
     "metadata": {},
     "output_type": "execute_result"
    }
   ],
   "source": [
    "df_edu = df2[[\"EDUCATIONAL ATTAINMENT\", \"Unemployment rate\"]]\n",
    "\n",
    "df_edu.set_index(\"EDUCATIONAL ATTAINMENT\", inplace=True)\n",
    "\n",
    "df_edu"
   ]
  },
  {
   "cell_type": "code",
   "execution_count": 30,
   "metadata": {},
   "outputs": [
    {
     "data": {
      "text/plain": [
       "Unemployment rate    object\n",
       "dtype: object"
      ]
     },
     "execution_count": 30,
     "metadata": {},
     "output_type": "execute_result"
    }
   ],
   "source": [
    "df_edu.dtypes"
   ]
  },
  {
   "cell_type": "code",
   "execution_count": 31,
   "metadata": {},
   "outputs": [
    {
     "data": {
      "text/html": [
       "<div>\n",
       "<style scoped>\n",
       "    .dataframe tbody tr th:only-of-type {\n",
       "        vertical-align: middle;\n",
       "    }\n",
       "\n",
       "    .dataframe tbody tr th {\n",
       "        vertical-align: top;\n",
       "    }\n",
       "\n",
       "    .dataframe thead th {\n",
       "        text-align: right;\n",
       "    }\n",
       "</style>\n",
       "<table border=\"1\" class=\"dataframe\">\n",
       "  <thead>\n",
       "    <tr style=\"text-align: right;\">\n",
       "      <th></th>\n",
       "      <th>Unemployment rate</th>\n",
       "    </tr>\n",
       "    <tr>\n",
       "      <th>EDUCATIONAL ATTAINMENT</th>\n",
       "      <th></th>\n",
       "    </tr>\n",
       "  </thead>\n",
       "  <tbody>\n",
       "    <tr>\n",
       "      <th>Less than high school graduate</th>\n",
       "      <td>8.4</td>\n",
       "    </tr>\n",
       "    <tr>\n",
       "      <th>High school graduate</th>\n",
       "      <td>6.6</td>\n",
       "    </tr>\n",
       "    <tr>\n",
       "      <th>Some college or associate's degree</th>\n",
       "      <td>4.9</td>\n",
       "    </tr>\n",
       "    <tr>\n",
       "      <th>Bachelor's degree or higher</th>\n",
       "      <td>2.6</td>\n",
       "    </tr>\n",
       "  </tbody>\n",
       "</table>\n",
       "</div>"
      ],
      "text/plain": [
       "                                    Unemployment rate\n",
       "EDUCATIONAL ATTAINMENT                               \n",
       "Less than high school graduate                    8.4\n",
       "High school graduate                              6.6\n",
       "Some college or associate's degree                4.9\n",
       "Bachelor's degree or higher                       2.6"
      ]
     },
     "execution_count": 31,
     "metadata": {},
     "output_type": "execute_result"
    }
   ],
   "source": [
    "df_edu=df_edu.replace('%','',regex=True).astype(float)\n",
    "df_edu"
   ]
  },
  {
   "cell_type": "code",
   "execution_count": 32,
   "metadata": {},
   "outputs": [
    {
     "data": {
      "text/plain": [
       "Unemployment rate    float64\n",
       "dtype: object"
      ]
     },
     "execution_count": 32,
     "metadata": {},
     "output_type": "execute_result"
    }
   ],
   "source": [
    "df_edu.dtypes"
   ]
  },
  {
   "cell_type": "code",
   "execution_count": 34,
   "metadata": {},
   "outputs": [
    {
     "data": {
      "image/png": "[encoded data removed]",
      "text/plain": [
       "<Figure size 720x432 with 1 Axes>"
      ]
     },
     "metadata": {
      "needs_background": "light"
     },
     "output_type": "display_data"
    }
   ],
   "source": [
    "ax2 = df_edu.plot(kind='bar', figsize=(10, 6), width=0.4, legend=None, color='#c2324f')\n",
    "\n",
    "ax2.set_xlabel('Educational Attainment', fontsize=14) \n",
    "ax2.set_ylabel('Unemployment Rate (%)', fontsize=14) \n",
    "ax2.set_title('Unemployment Rates by Educational Attainment', fontsize=18) \n",
    "ax2.set_xticklabels([\"Less than high school\", \"High school graduate\", \"Some college\", \"Bachelor's degree or higher\"], rotation=0, fontsize=10)\n",
    "\n",
    "\n",
    "for bar in ax2.patches: \n",
    "    ax2.annotate(format(bar.get_height(), '.1f'),  \n",
    "                   (bar.get_x() + bar.get_width()/ 2,  \n",
    "                    bar.get_height()), ha='center', va='center', \n",
    "                   size=10, xytext=(0, 5), \n",
    "                   textcoords='offset points') \n",
    "\n",
    "plt.show()"
   ]
  },
  {
   "cell_type": "code",
   "execution_count": 5,
   "metadata": {},
   "outputs": [
    {
     "data": {
      "text/html": [
       "<div>\n",
       "<style scoped>\n",
       "    .dataframe tbody tr th:only-of-type {\n",
       "        vertical-align: middle;\n",
       "    }\n",
       "\n",
       "    .dataframe tbody tr th {\n",
       "        vertical-align: top;\n",
       "    }\n",
       "\n",
       "    .dataframe thead th {\n",
       "        text-align: right;\n",
       "    }\n",
       "</style>\n",
       "<table border=\"1\" class=\"dataframe\">\n",
       "  <thead>\n",
       "    <tr style=\"text-align: right;\">\n",
       "      <th></th>\n",
       "      <th>Unnamed: 0</th>\n",
       "      <th>New Mexico!!2019 Estimate</th>\n",
       "      <th>New Mexico!!2018 Estimate</th>\n",
       "      <th>New Mexico!!2017 Estimate</th>\n",
       "      <th>New Mexico!!2016 Estimate</th>\n",
       "      <th>New Mexico!!2015 Estimate</th>\n",
       "    </tr>\n",
       "  </thead>\n",
       "  <tbody>\n",
       "    <tr>\n",
       "      <th>0</th>\n",
       "      <td>Unemployment Rate</td>\n",
       "      <td>5.50%</td>\n",
       "      <td>6.10%</td>\n",
       "      <td>6.60%</td>\n",
       "      <td>7.50%</td>\n",
       "      <td>7.40%</td>\n",
       "    </tr>\n",
       "  </tbody>\n",
       "</table>\n",
       "</div>"
      ],
      "text/plain": [
       "          Unnamed: 0 New Mexico!!2019 Estimate New Mexico!!2018 Estimate  \\\n",
       "0  Unemployment Rate                     5.50%                     6.10%   \n",
       "\n",
       "  New Mexico!!2017 Estimate New Mexico!!2016 Estimate  \\\n",
       "0                     6.60%                     7.50%   \n",
       "\n",
       "  New Mexico!!2015 Estimate  \n",
       "0                     7.40%  "
      ]
     },
     "execution_count": 5,
     "metadata": {},
     "output_type": "execute_result"
    }
   ],
   "source": [
    "import pandas as pd\n",
    "\n",
    "df3 = pd.read_csv(\"Unemployment 15-19.csv\")\n",
    "df3"
   ]
  },
  {
   "cell_type": "code",
   "execution_count": 6,
   "metadata": {},
   "outputs": [
    {
     "data": {
      "text/html": [
       "<div>\n",
       "<style scoped>\n",
       "    .dataframe tbody tr th:only-of-type {\n",
       "        vertical-align: middle;\n",
       "    }\n",
       "\n",
       "    .dataframe tbody tr th {\n",
       "        vertical-align: top;\n",
       "    }\n",
       "\n",
       "    .dataframe thead th {\n",
       "        text-align: right;\n",
       "    }\n",
       "</style>\n",
       "<table border=\"1\" class=\"dataframe\">\n",
       "  <thead>\n",
       "    <tr style=\"text-align: right;\">\n",
       "      <th></th>\n",
       "      <th>Unnamed: 0</th>\n",
       "      <th>2019</th>\n",
       "      <th>2018</th>\n",
       "      <th>2017</th>\n",
       "      <th>2016</th>\n",
       "      <th>2015</th>\n",
       "    </tr>\n",
       "  </thead>\n",
       "  <tbody>\n",
       "    <tr>\n",
       "      <th>0</th>\n",
       "      <td>Unemployment Rate</td>\n",
       "      <td>5.50%</td>\n",
       "      <td>6.10%</td>\n",
       "      <td>6.60%</td>\n",
       "      <td>7.50%</td>\n",
       "      <td>7.40%</td>\n",
       "    </tr>\n",
       "  </tbody>\n",
       "</table>\n",
       "</div>"
      ],
      "text/plain": [
       "          Unnamed: 0   2019   2018   2017   2016   2015\n",
       "0  Unemployment Rate  5.50%  6.10%  6.60%  7.50%  7.40%"
      ]
     },
     "execution_count": 6,
     "metadata": {},
     "output_type": "execute_result"
    }
   ],
   "source": [
    "df3.rename(index=str, columns={\"New Mexico!!2019 Estimate\": \"2019\", \"New Mexico!!2018 Estimate\": \"2018\", \"New Mexico!!2017 Estimate\": \"2017\", \"New Mexico!!2016 Estimate\": \"2016\", \"New Mexico!!2015 Estimate\": \"2015\"}, inplace=True)\n",
    "df3"
   ]
  },
  {
   "cell_type": "code",
   "execution_count": 7,
   "metadata": {},
   "outputs": [
    {
     "data": {
      "text/html": [
       "<div>\n",
       "<style scoped>\n",
       "    .dataframe tbody tr th:only-of-type {\n",
       "        vertical-align: middle;\n",
       "    }\n",
       "\n",
       "    .dataframe tbody tr th {\n",
       "        vertical-align: top;\n",
       "    }\n",
       "\n",
       "    .dataframe thead th {\n",
       "        text-align: right;\n",
       "    }\n",
       "</style>\n",
       "<table border=\"1\" class=\"dataframe\">\n",
       "  <thead>\n",
       "    <tr style=\"text-align: right;\">\n",
       "      <th></th>\n",
       "      <th>2019</th>\n",
       "      <th>2018</th>\n",
       "      <th>2017</th>\n",
       "      <th>2016</th>\n",
       "      <th>2015</th>\n",
       "    </tr>\n",
       "  </thead>\n",
       "  <tbody>\n",
       "    <tr>\n",
       "      <th>0</th>\n",
       "      <td>5.50%</td>\n",
       "      <td>6.10%</td>\n",
       "      <td>6.60%</td>\n",
       "      <td>7.50%</td>\n",
       "      <td>7.40%</td>\n",
       "    </tr>\n",
       "  </tbody>\n",
       "</table>\n",
       "</div>"
      ],
      "text/plain": [
       "    2019   2018   2017   2016   2015\n",
       "0  5.50%  6.10%  6.60%  7.50%  7.40%"
      ]
     },
     "execution_count": 7,
     "metadata": {},
     "output_type": "execute_result"
    }
   ],
   "source": [
    "df_unemphist=df3.drop('Unnamed: 0', axis=1) # Do not say \"inplace = True\"\n",
    "\n",
    "df_unemphist"
   ]
  },
  {
   "cell_type": "code",
   "execution_count": 8,
   "metadata": {},
   "outputs": [
    {
     "data": {
      "text/html": [
       "<div>\n",
       "<style scoped>\n",
       "    .dataframe tbody tr th:only-of-type {\n",
       "        vertical-align: middle;\n",
       "    }\n",
       "\n",
       "    .dataframe tbody tr th {\n",
       "        vertical-align: top;\n",
       "    }\n",
       "\n",
       "    .dataframe thead th {\n",
       "        text-align: right;\n",
       "    }\n",
       "</style>\n",
       "<table border=\"1\" class=\"dataframe\">\n",
       "  <thead>\n",
       "    <tr style=\"text-align: right;\">\n",
       "      <th></th>\n",
       "      <th>2019</th>\n",
       "      <th>2018</th>\n",
       "      <th>2017</th>\n",
       "      <th>2016</th>\n",
       "      <th>2015</th>\n",
       "    </tr>\n",
       "  </thead>\n",
       "  <tbody>\n",
       "    <tr>\n",
       "      <th>0</th>\n",
       "      <td>5.5</td>\n",
       "      <td>6.1</td>\n",
       "      <td>6.6</td>\n",
       "      <td>7.5</td>\n",
       "      <td>7.4</td>\n",
       "    </tr>\n",
       "  </tbody>\n",
       "</table>\n",
       "</div>"
      ],
      "text/plain": [
       "   2019  2018  2017  2016  2015\n",
       "0   5.5   6.1   6.6   7.5   7.4"
      ]
     },
     "execution_count": 8,
     "metadata": {},
     "output_type": "execute_result"
    }
   ],
   "source": [
    "df_unemphist=df_unemphist.replace('%','',regex=True).astype(float)\n",
    "df_unemphist"
   ]
  },
  {
   "cell_type": "code",
   "execution_count": 9,
   "metadata": {},
   "outputs": [
    {
     "data": {
      "text/html": [
       "<div>\n",
       "<style scoped>\n",
       "    .dataframe tbody tr th:only-of-type {\n",
       "        vertical-align: middle;\n",
       "    }\n",
       "\n",
       "    .dataframe tbody tr th {\n",
       "        vertical-align: top;\n",
       "    }\n",
       "\n",
       "    .dataframe thead th {\n",
       "        text-align: right;\n",
       "    }\n",
       "</style>\n",
       "<table border=\"1\" class=\"dataframe\">\n",
       "  <thead>\n",
       "    <tr style=\"text-align: right;\">\n",
       "      <th></th>\n",
       "      <th>2020</th>\n",
       "      <th>2019</th>\n",
       "      <th>2018</th>\n",
       "      <th>2017</th>\n",
       "      <th>2016</th>\n",
       "      <th>2015</th>\n",
       "    </tr>\n",
       "  </thead>\n",
       "  <tbody>\n",
       "    <tr>\n",
       "      <th>0</th>\n",
       "      <td>7.3</td>\n",
       "      <td>5.5</td>\n",
       "      <td>6.1</td>\n",
       "      <td>6.6</td>\n",
       "      <td>7.5</td>\n",
       "      <td>7.4</td>\n",
       "    </tr>\n",
       "  </tbody>\n",
       "</table>\n",
       "</div>"
      ],
      "text/plain": [
       "   2020  2019  2018  2017  2016  2015\n",
       "0   7.3   5.5   6.1   6.6   7.5   7.4"
      ]
     },
     "execution_count": 9,
     "metadata": {},
     "output_type": "execute_result"
    }
   ],
   "source": [
    "# Insert the unemployment rate data in 2020 (that was not available from U.S. Census) to the dataframe \n",
    "\n",
    "df_unemphist.insert(0, '2020', 7.3)\n",
    "df_unemphist"
   ]
  },
  {
   "cell_type": "code",
   "execution_count": 11,
   "metadata": {},
   "outputs": [
    {
     "data": {
      "text/html": [
       "<div>\n",
       "<style scoped>\n",
       "    .dataframe tbody tr th:only-of-type {\n",
       "        vertical-align: middle;\n",
       "    }\n",
       "\n",
       "    .dataframe tbody tr th {\n",
       "        vertical-align: top;\n",
       "    }\n",
       "\n",
       "    .dataframe thead th {\n",
       "        text-align: right;\n",
       "    }\n",
       "</style>\n",
       "<table border=\"1\" class=\"dataframe\">\n",
       "  <thead>\n",
       "    <tr style=\"text-align: right;\">\n",
       "      <th></th>\n",
       "      <th>0</th>\n",
       "    </tr>\n",
       "  </thead>\n",
       "  <tbody>\n",
       "    <tr>\n",
       "      <th>2020</th>\n",
       "      <td>7.3</td>\n",
       "    </tr>\n",
       "    <tr>\n",
       "      <th>2019</th>\n",
       "      <td>5.5</td>\n",
       "    </tr>\n",
       "    <tr>\n",
       "      <th>2018</th>\n",
       "      <td>6.1</td>\n",
       "    </tr>\n",
       "    <tr>\n",
       "      <th>2017</th>\n",
       "      <td>6.6</td>\n",
       "    </tr>\n",
       "    <tr>\n",
       "      <th>2016</th>\n",
       "      <td>7.5</td>\n",
       "    </tr>\n",
       "    <tr>\n",
       "      <th>2015</th>\n",
       "      <td>7.4</td>\n",
       "    </tr>\n",
       "  </tbody>\n",
       "</table>\n",
       "</div>"
      ],
      "text/plain": [
       "        0\n",
       "2020  7.3\n",
       "2019  5.5\n",
       "2018  6.1\n",
       "2017  6.6\n",
       "2016  7.5\n",
       "2015  7.4"
      ]
     },
     "execution_count": 11,
     "metadata": {},
     "output_type": "execute_result"
    }
   ],
   "source": [
    "df_unemphist = df_unemphist.transpose()\n",
    "df_unemphist"
   ]
  },
  {
   "cell_type": "code",
   "execution_count": 19,
   "metadata": {},
   "outputs": [
    {
     "data": {
      "text/html": [
       "<div>\n",
       "<style scoped>\n",
       "    .dataframe tbody tr th:only-of-type {\n",
       "        vertical-align: middle;\n",
       "    }\n",
       "\n",
       "    .dataframe tbody tr th {\n",
       "        vertical-align: top;\n",
       "    }\n",
       "\n",
       "    .dataframe thead th {\n",
       "        text-align: right;\n",
       "    }\n",
       "</style>\n",
       "<table border=\"1\" class=\"dataframe\">\n",
       "  <thead>\n",
       "    <tr style=\"text-align: right;\">\n",
       "      <th></th>\n",
       "      <th>0</th>\n",
       "    </tr>\n",
       "  </thead>\n",
       "  <tbody>\n",
       "    <tr>\n",
       "      <th>2015</th>\n",
       "      <td>7.4</td>\n",
       "    </tr>\n",
       "    <tr>\n",
       "      <th>2016</th>\n",
       "      <td>7.5</td>\n",
       "    </tr>\n",
       "    <tr>\n",
       "      <th>2017</th>\n",
       "      <td>6.6</td>\n",
       "    </tr>\n",
       "    <tr>\n",
       "      <th>2018</th>\n",
       "      <td>6.1</td>\n",
       "    </tr>\n",
       "    <tr>\n",
       "      <th>2019</th>\n",
       "      <td>5.5</td>\n",
       "    </tr>\n",
       "    <tr>\n",
       "      <th>2020</th>\n",
       "      <td>7.3</td>\n",
       "    </tr>\n",
       "  </tbody>\n",
       "</table>\n",
       "</div>"
      ],
      "text/plain": [
       "        0\n",
       "2015  7.4\n",
       "2016  7.5\n",
       "2017  6.6\n",
       "2018  6.1\n",
       "2019  5.5\n",
       "2020  7.3"
      ]
     },
     "execution_count": 19,
     "metadata": {},
     "output_type": "execute_result"
    }
   ],
   "source": [
    "df_unemphist = df_unemphist.iloc[::-1]\n",
    "df_unemphist"
   ]
  },
  {
   "cell_type": "code",
   "execution_count": 12,
   "metadata": {},
   "outputs": [],
   "source": [
    "%matplotlib inline \n",
    "\n",
    "import matplotlib as mpl\n",
    "import matplotlib.pyplot as plt"
   ]
  },
  {
   "cell_type": "code",
   "execution_count": 26,
   "metadata": {},
   "outputs": [
    {
     "data": {
      "image/png": "[encoded data removed]",
      "text/plain": [
       "<Figure size 720x432 with 1 Axes>"
      ]
     },
     "metadata": {
      "needs_background": "light"
     },
     "output_type": "display_data"
    }
   ],
   "source": [
    "df_unemphist.plot(kind='line', figsize=(10, 6), legend=None, color='#187a2f', marker=\"o\")\n",
    "\n",
    "plt.title('Unemployment Rates between 2015 and 2020', fontsize=20)\n",
    "plt.ylabel('Unemployment Rate (%)', fontsize=14)\n",
    "plt.xlabel('Years', fontsize=14)\n",
    "\n",
    "plt.show() "
   ]
  },
  {
   "cell_type": "code",
   "execution_count": null,
   "metadata": {},
   "outputs": [],
   "source": []
  }
 ],
 "metadata": {
  "kernelspec": {
   "display_name": "Python 3",
   "language": "python",
   "name": "python3"
  },
  "language_info": {
   "codemirror_mode": {
    "name": "ipython",
    "version": 3
   },
   "file_extension": ".py",
   "mimetype": "text/x-python",
   "name": "python",
   "nbconvert_exporter": "python",
   "pygments_lexer": "ipython3",
   "version": "3.8.5"
  }
 },
 "nbformat": 4,
 "nbformat_minor": 4
}
